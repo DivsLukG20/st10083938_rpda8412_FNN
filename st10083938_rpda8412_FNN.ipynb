{
 "cells": [
  {
   "cell_type": "markdown",
   "metadata": {},
   "source": [
    "## **st10083938_rpda8412_FNN - Code.**"
   ]
  },
  {
   "cell_type": "markdown",
   "metadata": {},
   "source": [
    "### **Step 1: Importing the Libraries.**"
   ]
  },
  {
   "cell_type": "code",
   "execution_count": 41,
   "metadata": {},
   "outputs": [],
   "source": [
    "# Basic Libaries \n",
    "import pandas as pd \n",
    "import numpy as np\n",
    "\n",
    "# Visualisation Libaries\n",
    "import seaborn as sns\n",
    "import matplotlib.pyplot as plt\n",
    "\n",
    "# Data Preprocessing and Model Selection\n",
    "from sklearn.impute import SimpleImputer\n",
    "from sklearn.preprocessing import StandardScaler\n",
    "from sklearn.model_selection import train_test_split\n",
    "from imblearn.over_sampling import SMOTE\n",
    "\n",
    "# Deep Learning Libaries\n",
    "import tensorflow as tf\n",
    "from tensorflow.keras.models import Sequential\n",
    "from tensorflow.keras.layers import Dense, Flatten\n",
    "from tensorflow.keras.optimizers import Adam\n",
    "from tensorflow.keras.losses import SparseCategoricalCrossentropy\n",
    "from tensorflow.keras.metrics import SparseCategoricalAccuracy\n",
    "from tensorflow.keras.callbacks import EarlyStopping\n",
    "\n",
    "# Evaluation Metrics\n",
    "from sklearn.metrics import classification_report\n",
    "from sklearn.metrics import roc_curve, roc_auc_score\n",
    "\n",
    "# ______Code_Attribution______\n",
    "# The following lines of code  was adapted from stackoverflow.\n",
    "# Author: Prajot Kuvalekar.\n",
    "# Link: https://stackoverflow.com/questions/14463277/how-to-disable-python-warnings\n",
    "\n",
    "# disabling warning signs\n",
    "import warnings\n",
    "warnings.filterwarnings('ignore')\n",
    "# ______end______"
   ]
  },
  {
   "cell_type": "markdown",
   "metadata": {},
   "source": [
    "### **Step 2: Performing Data Pre-processing.**\n",
    "#### ***2.1. Reading an Excel file in Python using Pandas.***"
   ]
  },
  {
   "cell_type": "code",
   "execution_count": 42,
   "metadata": {},
   "outputs": [],
   "source": [
    "# ______Code_Attribution______\n",
    "# The following line of code  was adapted from stackoverflow.\n",
    "# Author: Ajay Sant.\n",
    "# Link: https://stackoverflow.com/questions/17063458/reading-an-excel-file-in-python-using-pandas\n",
    "df = pd.read_excel(r\"/home/lab_services_student/DATABASE eov.xlsx\", sheet_name=0)\n",
    "# ______End______"
   ]
  },
  {
   "cell_type": "code",
   "execution_count": 43,
   "metadata": {},
   "outputs": [
    {
     "data": {
      "text/html": [
       "<div>\n",
       "<style scoped>\n",
       "    .dataframe tbody tr th:only-of-type {\n",
       "        vertical-align: middle;\n",
       "    }\n",
       "\n",
       "    .dataframe tbody tr th {\n",
       "        vertical-align: top;\n",
       "    }\n",
       "\n",
       "    .dataframe thead th {\n",
       "        text-align: right;\n",
       "    }\n",
       "</style>\n",
       "<table border=\"1\" class=\"dataframe\">\n",
       "  <thead>\n",
       "    <tr style=\"text-align: right;\">\n",
       "      <th></th>\n",
       "      <th>id pts</th>\n",
       "      <th>Age</th>\n",
       "      <th>Gender</th>\n",
       "      <th>Weight</th>\n",
       "      <th>Height</th>\n",
       "      <th>FE</th>\n",
       "      <th>Hb</th>\n",
       "      <th>MDRD</th>\n",
       "      <th>Crea</th>\n",
       "      <th>Na</th>\n",
       "      <th>...</th>\n",
       "      <th>Diur_tipo</th>\n",
       "      <th>Dose diur</th>\n",
       "      <th>Diur2_tipo</th>\n",
       "      <th>Dose diur.1</th>\n",
       "      <th>PM</th>\n",
       "      <th>ICD</th>\n",
       "      <th>CRT</th>\n",
       "      <th>Diur_tipo.1</th>\n",
       "      <th>Dose diur.2</th>\n",
       "      <th>Dose equivalente</th>\n",
       "    </tr>\n",
       "  </thead>\n",
       "  <tbody>\n",
       "    <tr>\n",
       "      <th>0</th>\n",
       "      <td>ID01</td>\n",
       "      <td>67.0</td>\n",
       "      <td>1</td>\n",
       "      <td>79.0</td>\n",
       "      <td>168.0</td>\n",
       "      <td>34.9</td>\n",
       "      <td>13.1</td>\n",
       "      <td>40.009083</td>\n",
       "      <td>1.81</td>\n",
       "      <td>135.0</td>\n",
       "      <td>...</td>\n",
       "      <td>1.0</td>\n",
       "      <td>25.0</td>\n",
       "      <td>NaN</td>\n",
       "      <td>NaN</td>\n",
       "      <td>0.0</td>\n",
       "      <td>0.0</td>\n",
       "      <td>0.0</td>\n",
       "      <td>1.0</td>\n",
       "      <td>25.0</td>\n",
       "      <td>25.0</td>\n",
       "    </tr>\n",
       "    <tr>\n",
       "      <th>1</th>\n",
       "      <td>ID02</td>\n",
       "      <td>74.0</td>\n",
       "      <td>1</td>\n",
       "      <td>94.0</td>\n",
       "      <td>176.0</td>\n",
       "      <td>32.6</td>\n",
       "      <td>12.4</td>\n",
       "      <td>61.236212</td>\n",
       "      <td>1.23</td>\n",
       "      <td>144.0</td>\n",
       "      <td>...</td>\n",
       "      <td>1.0</td>\n",
       "      <td>125.0</td>\n",
       "      <td>NaN</td>\n",
       "      <td>NaN</td>\n",
       "      <td>1.0</td>\n",
       "      <td>0.0</td>\n",
       "      <td>0.0</td>\n",
       "      <td>1.0</td>\n",
       "      <td>125.0</td>\n",
       "      <td>125.0</td>\n",
       "    </tr>\n",
       "    <tr>\n",
       "      <th>2</th>\n",
       "      <td>ID03</td>\n",
       "      <td>46.0</td>\n",
       "      <td>1</td>\n",
       "      <td>84.0</td>\n",
       "      <td>170.0</td>\n",
       "      <td>39.5</td>\n",
       "      <td>15.6</td>\n",
       "      <td>79.207104</td>\n",
       "      <td>1.07</td>\n",
       "      <td>137.0</td>\n",
       "      <td>...</td>\n",
       "      <td>NaN</td>\n",
       "      <td>NaN</td>\n",
       "      <td>NaN</td>\n",
       "      <td>NaN</td>\n",
       "      <td>0.0</td>\n",
       "      <td>0.0</td>\n",
       "      <td>0.0</td>\n",
       "      <td>NaN</td>\n",
       "      <td>NaN</td>\n",
       "      <td>NaN</td>\n",
       "    </tr>\n",
       "    <tr>\n",
       "      <th>3</th>\n",
       "      <td>ID04</td>\n",
       "      <td>69.0</td>\n",
       "      <td>1</td>\n",
       "      <td>87.0</td>\n",
       "      <td>169.0</td>\n",
       "      <td>22.0</td>\n",
       "      <td>15.2</td>\n",
       "      <td>41.077582</td>\n",
       "      <td>1.76</td>\n",
       "      <td>137.0</td>\n",
       "      <td>...</td>\n",
       "      <td>1.0</td>\n",
       "      <td>50.0</td>\n",
       "      <td>NaN</td>\n",
       "      <td>NaN</td>\n",
       "      <td>0.0</td>\n",
       "      <td>1.0</td>\n",
       "      <td>0.0</td>\n",
       "      <td>1.0</td>\n",
       "      <td>50.0</td>\n",
       "      <td>50.0</td>\n",
       "    </tr>\n",
       "    <tr>\n",
       "      <th>4</th>\n",
       "      <td>ID05</td>\n",
       "      <td>74.0</td>\n",
       "      <td>1</td>\n",
       "      <td>76.0</td>\n",
       "      <td>167.0</td>\n",
       "      <td>31.6</td>\n",
       "      <td>9.3</td>\n",
       "      <td>37.074659</td>\n",
       "      <td>1.90</td>\n",
       "      <td>139.0</td>\n",
       "      <td>...</td>\n",
       "      <td>1.0</td>\n",
       "      <td>75.0</td>\n",
       "      <td>NaN</td>\n",
       "      <td>NaN</td>\n",
       "      <td>0.0</td>\n",
       "      <td>0.0</td>\n",
       "      <td>0.0</td>\n",
       "      <td>1.0</td>\n",
       "      <td>75.0</td>\n",
       "      <td>75.0</td>\n",
       "    </tr>\n",
       "  </tbody>\n",
       "</table>\n",
       "<p>5 rows × 37 columns</p>\n",
       "</div>"
      ],
      "text/plain": [
       "  id pts   Age  Gender  Weight  Height    FE    Hb       MDRD  Crea     Na  \\\n",
       "0   ID01  67.0       1    79.0   168.0  34.9  13.1  40.009083  1.81  135.0   \n",
       "1   ID02  74.0       1    94.0   176.0  32.6  12.4  61.236212  1.23  144.0   \n",
       "2   ID03  46.0       1    84.0   170.0  39.5  15.6  79.207104  1.07  137.0   \n",
       "3   ID04  69.0       1    87.0   169.0  22.0  15.2  41.077582  1.76  137.0   \n",
       "4   ID05  74.0       1    76.0   167.0  31.6   9.3  37.074659  1.90  139.0   \n",
       "\n",
       "   ...  Diur_tipo  Dose diur  Diur2_tipo  Dose diur.1   PM  ICD  CRT  \\\n",
       "0  ...        1.0       25.0         NaN          NaN  0.0  0.0  0.0   \n",
       "1  ...        1.0      125.0         NaN          NaN  1.0  0.0  0.0   \n",
       "2  ...        NaN        NaN         NaN          NaN  0.0  0.0  0.0   \n",
       "3  ...        1.0       50.0         NaN          NaN  0.0  1.0  0.0   \n",
       "4  ...        1.0       75.0         NaN          NaN  0.0  0.0  0.0   \n",
       "\n",
       "   Diur_tipo.1  Dose diur.2  Dose equivalente  \n",
       "0          1.0         25.0              25.0  \n",
       "1          1.0        125.0             125.0  \n",
       "2          NaN          NaN               NaN  \n",
       "3          1.0         50.0              50.0  \n",
       "4          1.0         75.0              75.0  \n",
       "\n",
       "[5 rows x 37 columns]"
      ]
     },
     "execution_count": 43,
     "metadata": {},
     "output_type": "execute_result"
    }
   ],
   "source": [
    "df.head()"
   ]
  },
  {
   "cell_type": "code",
   "execution_count": 44,
   "metadata": {},
   "outputs": [
    {
     "data": {
      "text/plain": [
       "Index(['id pts', 'Age', 'Gender', 'Weight', 'Height', 'FE', 'Hb', 'MDRD',\n",
       "       'Crea', 'Na', 'K', 'BNP', 'VO2_peak', 'VO2_peak_Kg', 'VO2_peak_perc',\n",
       "       'VE/VCO2 slope', 'Resp_Period', 'Futot', 'ACE_I', 'AT1_I', 'BB',\n",
       "       'Diuretici', 'Risparmiatore_K', 'exitus', 'card trap 2 anni',\n",
       "       'card trap 500gg', 'Diuretici.1', 'Diur_tipo', 'Dose diur',\n",
       "       'Diur2_tipo', 'Dose diur.1', 'PM', 'ICD', 'CRT', 'Diur_tipo.1',\n",
       "       'Dose diur.2', 'Dose equivalente'],\n",
       "      dtype='object')"
      ]
     },
     "execution_count": 44,
     "metadata": {},
     "output_type": "execute_result"
    }
   ],
   "source": [
    "df.columns"
   ]
  },
  {
   "cell_type": "code",
   "execution_count": 45,
   "metadata": {},
   "outputs": [
    {
     "data": {
      "text/plain": [
       "(5721, 37)"
      ]
     },
     "execution_count": 45,
     "metadata": {},
     "output_type": "execute_result"
    }
   ],
   "source": [
    "df.shape"
   ]
  },
  {
   "cell_type": "markdown",
   "metadata": {},
   "source": [
    "#### ***2.2. Dropping the various columns below from dataset based on previous literature that used this dataset.***"
   ]
  },
  {
   "cell_type": "code",
   "execution_count": 46,
   "metadata": {},
   "outputs": [],
   "source": [
    "df_dropped = df.drop(['id pts', 'Weight', 'Height', 'Futot', 'PM', 'Diuretici.1', 'Diur2_tipo', 'Dose diur.1', \n",
    "              'Diur_tipo.1', 'Dose diur.2', 'Dose equivalente', 'card trap 2 anni', \n",
    "              'card trap 500gg', 'Diur_tipo'], axis=1)"
   ]
  },
  {
   "cell_type": "markdown",
   "metadata": {},
   "source": [
    "#### ***2.3. Visualising the location of the missing values - using seaborn.heatmap.***"
   ]
  },
  {
   "cell_type": "code",
   "execution_count": 47,
   "metadata": {},
   "outputs": [
    {
     "data": {
      "text/plain": [
       "<Axes: >"
      ]
     },
     "execution_count": 47,
     "metadata": {},
     "output_type": "execute_result"
    },
    {
     "data": {
      "image/png": "[encoded data removed]",
      "text/plain": [
       "<Figure size 432x288 with 1 Axes>"
      ]
     },
     "metadata": {
      "needs_background": "light"
     },
     "output_type": "display_data"
    }
   ],
   "source": [
    "# ______Code_Attribution______\n",
    "# The following line of code  was adapted from dev.to.\n",
    "# Author: Tomoyuki Aota.\n",
    "# Link: https://dev.to/tomoyukiaota/visualizing-the-patterns-of-missing-value-occurrence-with-python-46dj\n",
    "\n",
    "# The first method is by seaborn.heatmap and next single-line code will visualize the location of missing values.\n",
    "sns.heatmap(df_dropped.isnull(), cbar=False)\n",
    "# ______End______"
   ]
  },
  {
   "cell_type": "markdown",
   "metadata": {},
   "source": [
    "#### ***2.4. Performing “Median” Imputation.***"
   ]
  },
  {
   "cell_type": "code",
   "execution_count": 48,
   "metadata": {},
   "outputs": [],
   "source": [
    "# ______Code_Attribution______\n",
    "# The following line of code  was adapted from analyticsvidhya.\n",
    "# Author: Parth Shukla.\n",
    "# Link: https://www.analyticsvidhya.com/blog/2022/10/handling-missing-data-with-simpleimputer/\n",
    "\n",
    "# Using the strategy Median in SimpleImputer allows us to impute the missing value by the median. \n",
    "# This strategy can only be used on a numerical dataset.\n",
    "imputer = SimpleImputer(missing_values=np.nan, strategy='median')\n",
    "# ______End______"
   ]
  },
  {
   "cell_type": "code",
   "execution_count": 49,
   "metadata": {},
   "outputs": [],
   "source": [
    "# ______Code_Attribution______\n",
    "# The following lines of code was adapted from analyticsvidhya.\n",
    "# Author: Parth Shukla.\n",
    "# Link: https://www.analyticsvidhya.com/blog/2022/10/handling-missing-data-with-s\n",
    "\n",
    "# ______Code_Attribution______\n",
    "# The following fix on \"Error in Python script \"Expected 2D array, got 1D array instead:\"?\" was adapted from stackoverflow.\n",
    "# Author: Ofer Sadan.\n",
    "# Link: https://stackoverflow.com/questions/45554008/error-in-python-script-expected-2d-array-got-1d-array-instead\n",
    "\n",
    "# Imputing columns with the least amount of null values. \n",
    "df_dropped[['Hb']] = imputer.fit_transform(df_dropped[['Hb']])\n",
    "df_dropped[['MDRD']] = imputer.fit_transform(df_dropped[['MDRD']])\n",
    "df_dropped[['Crea']] = imputer.fit_transform(df_dropped[['Crea']])\n",
    "df_dropped[['Na']] = imputer.fit_transform(df_dropped[['Na']])\n",
    "df_dropped[['K']] = imputer.fit_transform(df_dropped[['K']])\n",
    "df_dropped[['VO2_peak_Kg']] = imputer.fit_transform(df_dropped[['VO2_peak_Kg']])\n",
    "df_dropped[['VO2_peak_perc']] = imputer.fit_transform(df_dropped[['VO2_peak_perc']])\n",
    "df_dropped[['VE/VCO2 slope']] = imputer.fit_transform(df_dropped[['VE/VCO2 slope']])\n",
    "df_dropped[['ACE_I']] = imputer.fit_transform(df_dropped[['ACE_I']])\n",
    "df_dropped[['AT1_I']] = imputer.fit_transform(df_dropped[['AT1_I']])\n",
    "df_dropped[['BB']] = imputer.fit_transform(df_dropped[['BB']])\n",
    "df_dropped[['Diuretici']] = imputer.fit_transform(df_dropped[['Diuretici']])\n",
    "df_dropped[['Risparmiatore_K']] = imputer.fit_transform(df_dropped[['Risparmiatore_K']])\n",
    "df_dropped[['ICD']] = imputer.fit_transform(df_dropped[['ICD']])\n",
    "df_dropped[['CRT']] = imputer.fit_transform(df_dropped[['CRT']])\n",
    "\n",
    "# Imputing columns with the most amount of null values. \n",
    "df_dropped[['BNP']] = imputer.fit_transform(df_dropped[['BNP']])\n",
    "df_dropped[['Dose diur']] = imputer.fit_transform(df_dropped[['Dose diur']])\n",
    "df_dropped[['exitus']] = imputer.fit_transform(df_dropped[['exitus']])\n",
    "\n",
    "# ______End______\n",
    "# ______End______"
   ]
  },
  {
   "cell_type": "code",
   "execution_count": 50,
   "metadata": {},
   "outputs": [],
   "source": [
    "df_dropped.dropna(inplace=True)"
   ]
  },
  {
   "cell_type": "code",
   "execution_count": 51,
   "metadata": {},
   "outputs": [
    {
     "name": "stdout",
     "output_type": "stream",
     "text": [
      "Age                0\n",
      "Gender             0\n",
      "FE                 0\n",
      "Hb                 0\n",
      "MDRD               0\n",
      "Crea               0\n",
      "Na                 0\n",
      "K                  0\n",
      "BNP                0\n",
      "VO2_peak           0\n",
      "VO2_peak_Kg        0\n",
      "VO2_peak_perc      0\n",
      "VE/VCO2 slope      0\n",
      "Resp_Period        0\n",
      "ACE_I              0\n",
      "AT1_I              0\n",
      "BB                 0\n",
      "Diuretici          0\n",
      "Risparmiatore_K    0\n",
      "exitus             0\n",
      "Dose diur          0\n",
      "ICD                0\n",
      "CRT                0\n",
      "dtype: int64\n"
     ]
    }
   ],
   "source": [
    "print(df_dropped.isnull().sum())"
   ]
  },
  {
   "cell_type": "code",
   "execution_count": 52,
   "metadata": {},
   "outputs": [
    {
     "name": "stdout",
     "output_type": "stream",
     "text": [
      "<class 'pandas.core.frame.DataFrame'>\n",
      "Index: 5699 entries, 0 to 5720\n",
      "Data columns (total 23 columns):\n",
      " #   Column           Non-Null Count  Dtype  \n",
      "---  ------           --------------  -----  \n",
      " 0   Age              5699 non-null   float64\n",
      " 1   Gender           5699 non-null   int64  \n",
      " 2   FE               5699 non-null   float64\n",
      " 3   Hb               5699 non-null   float64\n",
      " 4   MDRD             5699 non-null   float64\n",
      " 5   Crea             5699 non-null   float64\n",
      " 6   Na               5699 non-null   float64\n",
      " 7   K                5699 non-null   float64\n",
      " 8   BNP              5699 non-null   float64\n",
      " 9   VO2_peak         5699 non-null   float64\n",
      " 10  VO2_peak_Kg      5699 non-null   float64\n",
      " 11  VO2_peak_perc    5699 non-null   float64\n",
      " 12  VE/VCO2 slope    5699 non-null   float64\n",
      " 13  Resp_Period      5699 non-null   int64  \n",
      " 14  ACE_I            5699 non-null   float64\n",
      " 15  AT1_I            5699 non-null   float64\n",
      " 16  BB               5699 non-null   float64\n",
      " 17  Diuretici        5699 non-null   float64\n",
      " 18  Risparmiatore_K  5699 non-null   float64\n",
      " 19  exitus           5699 non-null   float64\n",
      " 20  Dose diur        5699 non-null   float64\n",
      " 21  ICD              5699 non-null   float64\n",
      " 22  CRT              5699 non-null   float64\n",
      "dtypes: float64(21), int64(2)\n",
      "memory usage: 1.0 MB\n",
      "None\n"
     ]
    }
   ],
   "source": [
    "print(df_dropped.info())"
   ]
  },
  {
   "cell_type": "markdown",
   "metadata": {},
   "source": [
    "### **Step 3: Performing Data Exploratory Data Analysis (EDA).**\n",
    "#### ***3.1. Looking into the target variable \"exitus\".***"
   ]
  },
  {
   "cell_type": "code",
   "execution_count": 53,
   "metadata": {},
   "outputs": [
    {
     "data": {
      "text/plain": [
       "<Axes: xlabel='count', ylabel='exitus'>"
      ]
     },
     "execution_count": 53,
     "metadata": {},
     "output_type": "execute_result"
    },
    {
     "data": {
      "image/png": "[encoded data removed]",
      "text/plain": [
       "<Figure size 432x288 with 1 Axes>"
      ]
     },
     "metadata": {
      "needs_background": "light"
     },
     "output_type": "display_data"
    }
   ],
   "source": [
    "# ______Code_Attribution______\n",
    "# The following line of code was adapted from python charts.\n",
    "# Author: Python Charts.\n",
    "# Link: https://python-charts.com/ranking/countplot-seaborn/#:~:text=If%20you%20want%20to%20override,as%20in%20the%20example%20below.&text=You%20can%20also%20set%20the,color%20argument%20of%20the%20function.\n",
    "\n",
    "# Plotting a countplot to display the target variable \"exitus\". \n",
    "sns.countplot(y = df_dropped['exitus'], palette=\"Set1\", edgecolor=\"black\")\n",
    "# ______End______"
   ]
  },
  {
   "cell_type": "code",
   "execution_count": 54,
   "metadata": {},
   "outputs": [],
   "source": [
    "# ______Code_Attribution______\n",
    "# The following line of code was adapted from geeksforgeeks.\n",
    "# Author: Python Charts.\n",
    "# Link: https://www.geeksforgeeks.org/python-pandas-dataframe-astype/\n",
    "\n",
    "# Converting column exitus from df_dropped to int64 from float64 using Pandas DataFrame.astype(). \n",
    "df_dropped.exitus = df_dropped.exitus.astype('int64')\n",
    "# ______End______"
   ]
  },
  {
   "cell_type": "code",
   "execution_count": 55,
   "metadata": {},
   "outputs": [
    {
     "data": {
      "text/plain": [
       "<Axes: xlabel='count', ylabel='exitus'>"
      ]
     },
     "execution_count": 55,
     "metadata": {},
     "output_type": "execute_result"
    },
    {
     "data": {
      "image/png": "[encoded data removed]",
      "text/plain": [
       "<Figure size 432x288 with 1 Axes>"
      ]
     },
     "metadata": {
      "needs_background": "light"
     },
     "output_type": "display_data"
    }
   ],
   "source": [
    "# ______Code_Attribution______\n",
    "# The following line of code was adapted from python charts.\n",
    "# Author: Python Charts.\n",
    "# Link: https://python-charts.com/ranking/countplot-seaborn/#:~:text=If%20you%20want%20to%20override,as%20in%20the%20example%20below.&text=You%20can%20also%20set%20the,color%20argument%20of%20the%20function.\n",
    "\n",
    "# Plotting a countplot to display the target variable \"exitus\". \n",
    "sns.countplot(y = df_dropped['exitus'], palette=\"Set1\", edgecolor=\"black\")\n",
    "# ______End______"
   ]
  },
  {
   "cell_type": "code",
   "execution_count": 56,
   "metadata": {},
   "outputs": [
    {
     "name": "stdout",
     "output_type": "stream",
     "text": [
      "[1 0]\n"
     ]
    }
   ],
   "source": [
    "# ______Code_Attribution______\n",
    "# The following lines of code was adapted from chatgpt.\n",
    "# Author: chatgpt.\n",
    "# Link: https://chatgpt.com/ \n",
    "\n",
    "# Remove rows where 'exitus' is 2, 3, or 4\n",
    "df_cleaned = df_dropped[df_dropped['exitus'].isin([0, 1])]\n",
    "\n",
    "# Reset index after filtering, if needed\n",
    "df_cleaned = df_cleaned.reset_index(drop=True)\n",
    "\n",
    "# Verify the result\n",
    "print(df_cleaned['exitus'].unique()) \n",
    "# ______End______"
   ]
  },
  {
   "cell_type": "code",
   "execution_count": 57,
   "metadata": {},
   "outputs": [
    {
     "data": {
      "text/plain": [
       "<Axes: xlabel='count', ylabel='exitus'>"
      ]
     },
     "execution_count": 57,
     "metadata": {},
     "output_type": "execute_result"
    },
    {
     "data": {
      "image/png": "[encoded data removed]",
      "text/plain": [
       "<Figure size 432x288 with 1 Axes>"
      ]
     },
     "metadata": {
      "needs_background": "light"
     },
     "output_type": "display_data"
    }
   ],
   "source": [
    "# ______Code_Attribution______\n",
    "# The following line of code was adapted from python charts.\n",
    "# Author: Python Charts.\n",
    "# Link: https://python-charts.com/ranking/countplot-seaborn/#:~:text=If%20you%20want%20to%20override,as%20in%20the%20example%20below.&text=You%20can%20also%20set%20the,color%20argument%20of%20the%20function.\n",
    "\n",
    "# Plotting a countplot to display the target variable \"exitus\". \n",
    "sns.countplot(y = df_cleaned['exitus'], palette=\"Set1\", edgecolor=\"black\")\n",
    "# ______End______"
   ]
  },
  {
   "cell_type": "code",
   "execution_count": 58,
   "metadata": {},
   "outputs": [
    {
     "name": "stdout",
     "output_type": "stream",
     "text": [
      "Number of 0's: 198\n",
      "Number of 1's: 5278\n"
     ]
    }
   ],
   "source": [
    "print(f\"Number of 0's: {np.sum(df_cleaned['exitus'] == 0)}\") \n",
    "print(f\"Number of 1's: {np.sum(df_cleaned['exitus'] == 1)}\") "
   ]
  },
  {
   "cell_type": "code",
   "execution_count": 59,
   "metadata": {},
   "outputs": [
    {
     "data": {
      "text/plain": [
       "Index(['Age', 'Gender', 'FE', 'Hb', 'MDRD', 'Crea', 'Na', 'K', 'BNP',\n",
       "       'VO2_peak', 'VO2_peak_Kg', 'VO2_peak_perc', 'VE/VCO2 slope',\n",
       "       'Resp_Period', 'ACE_I', 'AT1_I', 'BB', 'Diuretici', 'Risparmiatore_K',\n",
       "       'exitus', 'Dose diur', 'ICD', 'CRT'],\n",
       "      dtype='object')"
      ]
     },
     "execution_count": 59,
     "metadata": {},
     "output_type": "execute_result"
    }
   ],
   "source": [
    "df_cleaned.columns"
   ]
  },
  {
   "cell_type": "markdown",
   "metadata": {},
   "source": [
    "### **Step 4: Preparing the Data for Analysis.**\n",
    "#### ***4.1. Defining the \"X\" and \"y\" labels.***"
   ]
  },
  {
   "cell_type": "code",
   "execution_count": 60,
   "metadata": {},
   "outputs": [],
   "source": [
    "X = df_cleaned.drop(['exitus'], axis=1)\n",
    "y = df_cleaned.drop(['Age', 'Gender', 'FE', 'Hb', 'MDRD', 'Crea', 'Na', 'K', 'BNP',\n",
    "       'VO2_peak', 'VO2_peak_Kg', 'VO2_peak_perc', 'VE/VCO2 slope',\n",
    "       'Resp_Period', 'ACE_I', 'AT1_I', 'BB', 'Diuretici', 'Risparmiatore_K',\n",
    "       'Dose diur', 'ICD', 'CRT'], axis=1)"
   ]
  },
  {
   "cell_type": "code",
   "execution_count": 61,
   "metadata": {},
   "outputs": [
    {
     "name": "stdout",
     "output_type": "stream",
     "text": [
      "(5476, 22)\n",
      "(5476, 1)\n"
     ]
    }
   ],
   "source": [
    "print(X.shape)\n",
    "print(y.shape)"
   ]
  },
  {
   "cell_type": "markdown",
   "metadata": {},
   "source": [
    "#### ***4.2. Applying SMOTE to handle the imbalance of the data within the dataset by balancing it using SMOTE.***"
   ]
  },
  {
   "cell_type": "code",
   "execution_count": 62,
   "metadata": {},
   "outputs": [],
   "source": [
    "smt = SMOTE()"
   ]
  },
  {
   "cell_type": "code",
   "execution_count": 63,
   "metadata": {},
   "outputs": [],
   "source": [
    "X_sm, y_sm = smt.fit_resample(X, y)"
   ]
  },
  {
   "cell_type": "markdown",
   "metadata": {},
   "source": [
    "#### ***4.3. Splitting the data in training and testing.***"
   ]
  },
  {
   "cell_type": "code",
   "execution_count": 64,
   "metadata": {},
   "outputs": [],
   "source": [
    "X_train, X_test, y_train, y_test = train_test_split(X_sm, y_sm, test_size=0.2, random_state=42)"
   ]
  },
  {
   "cell_type": "markdown",
   "metadata": {},
   "source": [
    "#### ***4.4. Scaling the data.***"
   ]
  },
  {
   "cell_type": "code",
   "execution_count": 65,
   "metadata": {},
   "outputs": [],
   "source": [
    "sc = StandardScaler()"
   ]
  },
  {
   "cell_type": "code",
   "execution_count": 66,
   "metadata": {},
   "outputs": [],
   "source": [
    "X_train_scaled = sc.fit_transform(X_train)\n",
    "X_test_scaled = sc.fit_transform(X_test)"
   ]
  },
  {
   "cell_type": "code",
   "execution_count": 67,
   "metadata": {},
   "outputs": [
    {
     "name": "stdout",
     "output_type": "stream",
     "text": [
      "(8444, 22)\n",
      "(2112, 22)\n",
      "(8444, 1)\n",
      "(2112, 1)\n"
     ]
    }
   ],
   "source": [
    "print(X_train_scaled.shape)\n",
    "print(X_test_scaled.shape)\n",
    "print(y_train.shape)\n",
    "print(y_test.shape)"
   ]
  },
  {
   "cell_type": "markdown",
   "metadata": {},
   "source": [
    "### **Step 5: Building the FNN model, with Early Stopping.**\n",
    "#### ***5.1. Building the FNN model.***"
   ]
  },
  {
   "cell_type": "code",
   "execution_count": 68,
   "metadata": {},
   "outputs": [],
   "source": [
    "# ______Code_Attribution______\n",
    "# The following lines of code  was adapted from GeeksforGeeks.\n",
    "# Author: gouravlohar.\n",
    "# Link: https://www.geeksforgeeks.org/feedforward-neural-network/ \n",
    "fnn = Sequential([\n",
    "    Flatten(input_shape=(22, )),\n",
    "    Dense(128, activation='relu'),\n",
    "    Dense(10, activation='softmax')\n",
    "])\n",
    "# ______End______"
   ]
  },
  {
   "cell_type": "code",
   "execution_count": 69,
   "metadata": {},
   "outputs": [],
   "source": [
    "# ______Code_Attribution______\n",
    "# The following lines of code  was adapted from GeeksforGeeks.\n",
    "# Author: gouravlohar.\n",
    "# Link: https://www.geeksforgeeks.org/feedforward-neural-network/ \n",
    "fnn.compile(optimizer=Adam(),\n",
    "              loss=SparseCategoricalCrossentropy(),\n",
    "              metrics=[SparseCategoricalAccuracy()])\n",
    "# ______End______"
   ]
  },
  {
   "cell_type": "markdown",
   "metadata": {},
   "source": [
    "#### ***5.2. Early Stopping.***"
   ]
  },
  {
   "cell_type": "code",
   "execution_count": 70,
   "metadata": {},
   "outputs": [],
   "source": [
    "early_stopping = EarlyStopping(\n",
    "    monitor='val_loss',       \n",
    "    patience=1,              \n",
    "    restore_best_weights=True \n",
    ")"
   ]
  },
  {
   "cell_type": "markdown",
   "metadata": {},
   "source": [
    "### **Step 6: Training FNN with specified parameters, including early stopping.**"
   ]
  },
  {
   "cell_type": "code",
   "execution_count": 71,
   "metadata": {},
   "outputs": [
    {
     "name": "stdout",
     "output_type": "stream",
     "text": [
      "Epoch 1/100\n",
      "\u001b[1m676/676\u001b[0m \u001b[32m━━━━━━━━━━━━━━━━━━━━\u001b[0m\u001b[37m\u001b[0m \u001b[1m2s\u001b[0m 2ms/step - loss: 0.8442 - sparse_categorical_accuracy: 0.6552 - val_loss: 0.5084 - val_sparse_categorical_accuracy: 0.7596\n",
      "Epoch 2/100\n",
      "\u001b[1m676/676\u001b[0m \u001b[32m━━━━━━━━━━━━━━━━━━━━\u001b[0m\u001b[37m\u001b[0m \u001b[1m1s\u001b[0m 1ms/step - loss: 0.4718 - sparse_categorical_accuracy: 0.7898 - val_loss: 0.4232 - val_sparse_categorical_accuracy: 0.8165\n",
      "Epoch 3/100\n",
      "\u001b[1m676/676\u001b[0m \u001b[32m━━━━━━━━━━━━━━━━━━━━\u001b[0m\u001b[37m\u001b[0m \u001b[1m1s\u001b[0m 1ms/step - loss: 0.3842 - sparse_categorical_accuracy: 0.8433 - val_loss: 0.3536 - val_sparse_categorical_accuracy: 0.8538\n",
      "Epoch 4/100\n",
      "\u001b[1m676/676\u001b[0m \u001b[32m━━━━━━━━━━━━━━━━━━━━\u001b[0m\u001b[37m\u001b[0m \u001b[1m1s\u001b[0m 1ms/step - loss: 0.3131 - sparse_categorical_accuracy: 0.8881 - val_loss: 0.3120 - val_sparse_categorical_accuracy: 0.8792\n",
      "Epoch 5/100\n",
      "\u001b[1m676/676\u001b[0m \u001b[32m━━━━━━━━━━━━━━━━━━━━\u001b[0m\u001b[37m\u001b[0m \u001b[1m1s\u001b[0m 1ms/step - loss: 0.2661 - sparse_categorical_accuracy: 0.9028 - val_loss: 0.2744 - val_sparse_categorical_accuracy: 0.8899\n",
      "Epoch 6/100\n",
      "\u001b[1m676/676\u001b[0m \u001b[32m━━━━━━━━━━━━━━━━━━━━\u001b[0m\u001b[37m\u001b[0m \u001b[1m1s\u001b[0m 1ms/step - loss: 0.2293 - sparse_categorical_accuracy: 0.9229 - val_loss: 0.2461 - val_sparse_categorical_accuracy: 0.9011\n",
      "Epoch 7/100\n",
      "\u001b[1m676/676\u001b[0m \u001b[32m━━━━━━━━━━━━━━━━━━━━\u001b[0m\u001b[37m\u001b[0m \u001b[1m1s\u001b[0m 1ms/step - loss: 0.2020 - sparse_categorical_accuracy: 0.9305 - val_loss: 0.2179 - val_sparse_categorical_accuracy: 0.9183\n",
      "Epoch 8/100\n",
      "\u001b[1m676/676\u001b[0m \u001b[32m━━━━━━━━━━━━━━━━━━━━\u001b[0m\u001b[37m\u001b[0m \u001b[1m1s\u001b[0m 1ms/step - loss: 0.1797 - sparse_categorical_accuracy: 0.9409 - val_loss: 0.2046 - val_sparse_categorical_accuracy: 0.9189\n",
      "Epoch 9/100\n",
      "\u001b[1m676/676\u001b[0m \u001b[32m━━━━━━━━━━━━━━━━━━━━\u001b[0m\u001b[37m\u001b[0m \u001b[1m1s\u001b[0m 1ms/step - loss: 0.1511 - sparse_categorical_accuracy: 0.9575 - val_loss: 0.1851 - val_sparse_categorical_accuracy: 0.9343\n",
      "Epoch 10/100\n",
      "\u001b[1m676/676\u001b[0m \u001b[32m━━━━━━━━━━━━━━━━━━━━\u001b[0m\u001b[37m\u001b[0m \u001b[1m1s\u001b[0m 1ms/step - loss: 0.1497 - sparse_categorical_accuracy: 0.9509 - val_loss: 0.1679 - val_sparse_categorical_accuracy: 0.9337\n",
      "Epoch 11/100\n",
      "\u001b[1m676/676\u001b[0m \u001b[32m━━━━━━━━━━━━━━━━━━━━\u001b[0m\u001b[37m\u001b[0m \u001b[1m1s\u001b[0m 1ms/step - loss: 0.1267 - sparse_categorical_accuracy: 0.9626 - val_loss: 0.1623 - val_sparse_categorical_accuracy: 0.9337\n",
      "Epoch 12/100\n",
      "\u001b[1m676/676\u001b[0m \u001b[32m━━━━━━━━━━━━━━━━━━━━\u001b[0m\u001b[37m\u001b[0m \u001b[1m1s\u001b[0m 1ms/step - loss: 0.1166 - sparse_categorical_accuracy: 0.9621 - val_loss: 0.1411 - val_sparse_categorical_accuracy: 0.9509\n",
      "Epoch 13/100\n",
      "\u001b[1m676/676\u001b[0m \u001b[32m━━━━━━━━━━━━━━━━━━━━\u001b[0m\u001b[37m\u001b[0m \u001b[1m1s\u001b[0m 1ms/step - loss: 0.1068 - sparse_categorical_accuracy: 0.9691 - val_loss: 0.1481 - val_sparse_categorical_accuracy: 0.9408\n"
     ]
    }
   ],
   "source": [
    "history = fnn.fit(X_train_scaled, y_train, batch_size = 10, epochs = 100, validation_split=0.2, callbacks=[early_stopping])"
   ]
  },
  {
   "cell_type": "code",
   "execution_count": 72,
   "metadata": {},
   "outputs": [
    {
     "name": "stdout",
     "output_type": "stream",
     "text": [
      "Test Loss: 0.1300\n",
      "Test Accuracy: 0.9588\n"
     ]
    }
   ],
   "source": [
    "loss, accuracy = fnn.evaluate(X_test_scaled, y_test, verbose=0)\n",
    "\n",
    "print(f\"Test Loss: {loss:.4f}\")\n",
    "print(f\"Test Accuracy: {accuracy:.4f}\")"
   ]
  },
  {
   "cell_type": "markdown",
   "metadata": {},
   "source": [
    "### **Step 7: Model Evaluation and Performance Metrics Analysis.**\n",
    "#### ***7.1. Plotting a line graph showing the loss and accuracy in Training and Validation.***"
   ]
  },
  {
   "cell_type": "code",
   "execution_count": 73,
   "metadata": {},
   "outputs": [
    {
     "data": {
      "image/png": "[encoded data removed]",
      "text/plain": [
       "<Figure size 1008x360 with 2 Axes>"
      ]
     },
     "metadata": {
      "needs_background": "light"
     },
     "output_type": "display_data"
    }
   ],
   "source": [
    "# ______Code_Attribution______\n",
    "# The following lines of code  was adapted from Medium.\n",
    "# Author: Sudip Shrestha.\n",
    "# Link: https://towardsdatascience.com/nlp-spam-detection-in-sms-text-data-using-d\n",
    "metrics = pd.DataFrame(history.history)\n",
    "\n",
    "def plot_graphs(var1, var2, string, ax):\n",
    "    metrics[[var1, var2]].plot(ax=ax)\n",
    "    ax.set_title(' A Line Graph showing the ' + string + ' in Training and Validation')\n",
    "    ax.set_xlabel('Epochs')\n",
    "    ax.set_ylabel(string)\n",
    "    ax.legend([var1, var2]) \n",
    "    \n",
    "fig, axes = plt.subplots(1, 2, figsize=(14, 5))\n",
    "    \n",
    "plot_graphs('loss', 'val_loss', 'Loss', axes[0])\n",
    "\n",
    "plot_graphs('sparse_categorical_accuracy', 'val_sparse_categorical_accuracy', 'Accuracy', axes[1])\n",
    "\n",
    "plt.tight_layout()\n",
    "plt.show()\n",
    "# ______end______"
   ]
  },
  {
   "cell_type": "code",
   "execution_count": 74,
   "metadata": {},
   "outputs": [
    {
     "name": "stdout",
     "output_type": "stream",
     "text": [
      "\u001b[1m66/66\u001b[0m \u001b[32m━━━━━━━━━━━━━━━━━━━━\u001b[0m\u001b[37m\u001b[0m \u001b[1m0s\u001b[0m 937us/step\n"
     ]
    }
   ],
   "source": [
    "y_pred_probs = fnn.predict(X_test_scaled)"
   ]
  },
  {
   "cell_type": "code",
   "execution_count": 75,
   "metadata": {},
   "outputs": [],
   "source": [
    "y_pred = (y_pred_probs >= 0.5).astype(int)"
   ]
  },
  {
   "cell_type": "markdown",
   "metadata": {},
   "source": [
    "#### ***7.2. Printing a classification report.***"
   ]
  },
  {
   "cell_type": "code",
   "execution_count": 76,
   "metadata": {},
   "outputs": [
    {
     "name": "stdout",
     "output_type": "stream",
     "text": [
      "              precision    recall  f1-score   support\n",
      "\n",
      "           0       0.94      0.98      0.96      1039\n",
      "           1       0.98      0.94      0.96      1073\n",
      "\n",
      "    accuracy                           0.96      2112\n",
      "   macro avg       0.96      0.96      0.96      2112\n",
      "weighted avg       0.96      0.96      0.96      2112\n",
      "\n"
     ]
    }
   ],
   "source": [
    "# creating the classification report.\n",
    "report = classification_report(y_test, y_pred[:, 1])\n",
    "# printing classification report. \n",
    "print(report)"
   ]
  },
  {
   "cell_type": "code",
   "execution_count": 77,
   "metadata": {},
   "outputs": [],
   "source": [
    "# ______Code_Attribution______\n",
    "# The following lines of code  was adapted from youtube.com.\n",
    "# Author: Professor Rahul Jain.\n",
    "# Link: https://www.youtube.com/watch?v=VVsvl4WdkfM\n",
    "fpr, tpr, thresholds = roc_curve(y_test, y_pred[:, 1])\n",
    "# ______End______"
   ]
  },
  {
   "cell_type": "code",
   "execution_count": 78,
   "metadata": {},
   "outputs": [],
   "source": [
    "# ______Code_Attribution______\n",
    "# The following lines of code  was adapted from youtube.com.\n",
    "# Author: Professor Rahul Jain.\n",
    "# Link: https://www.youtube.com/watch?v=VVsvl4WdkfM\n",
    "auc_score = roc_auc_score(y_test, y_pred[:, 1])\n",
    "# ______End______"
   ]
  },
  {
   "cell_type": "code",
   "execution_count": 79,
   "metadata": {},
   "outputs": [
    {
     "name": "stdout",
     "output_type": "stream",
     "text": [
      "AUC Score: 0.9591239874171074\n"
     ]
    }
   ],
   "source": [
    "# ______Code_Attribution______\n",
    "# The following lines of code  was adapted from youtube.com.\n",
    "# Author: Professor Rahul Jain.\n",
    "# Link: https://www.youtube.com/watch?v=VVsvl4WdkfM\n",
    "print(f'AUC Score: {auc_score}')\n",
    "# ______End______"
   ]
  },
  {
   "cell_type": "markdown",
   "metadata": {},
   "source": [
    "#### ***7.3. Plotting a AUROC graph.***"
   ]
  },
  {
   "cell_type": "code",
   "execution_count": 80,
   "metadata": {},
   "outputs": [
    {
     "data": {
      "image/png": "[encoded data removed]",
      "text/plain": [
       "<Figure size 576x432 with 1 Axes>"
      ]
     },
     "metadata": {
      "needs_background": "light"
     },
     "output_type": "display_data"
    }
   ],
   "source": [
    "# ______Code_Attribution______\n",
    "# The following lines of code  was adapted from youtube.com.\n",
    "# Author: Professor Rahul Jain.\n",
    "# Link: https://www.youtube.com/watch?v=VVsvl4WdkfM\n",
    "plt.figure(figsize=(8, 6))\n",
    "plt.plot(fpr, tpr, color='blue', label=f'ROC curve (area = {auc_score:.2f})')\n",
    "plt.plot([0, 1], [0, 1], color='gray', linestyle='--')\n",
    "plt.xlabel('False Postive Rate')\n",
    "plt.ylabel('True Positive Rate')\n",
    "plt.title('Receiver Operating Characteristic (ROC) Curve')\n",
    "plt.legend(loc='lower right')\n",
    "plt.grid()\n",
    "plt.show()\n",
    "# ______End______"
   ]
  }
 ],
 "metadata": {
  "kernelspec": {
   "display_name": "base",
   "language": "python",
   "name": "python3"
  },
  "language_info": {
   "codemirror_mode": {
    "name": "ipython",
    "version": 3
   },
   "file_extension": ".py",
   "mimetype": "text/x-python",
   "name": "python",
   "nbconvert_exporter": "python",
   "pygments_lexer": "ipython3",
   "version": "3.9.7"
  }
 },
 "nbformat": 4,
 "nbformat_minor": 2
}
